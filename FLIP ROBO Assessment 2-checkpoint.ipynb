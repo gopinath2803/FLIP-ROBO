{
 "cells": [
  {
   "cell_type": "code",
   "execution_count": 1,
   "metadata": {},
   "outputs": [],
   "source": [
    "from selenium import webdriver\n",
    "from bs4 import BeautifulSoup\n",
    "import pandas as pd"
   ]
  },
  {
   "cell_type": "code",
   "execution_count": 2,
   "metadata": {},
   "outputs": [],
   "source": [
    "DRIVER_PATH='D:\\software\\chromedriver_win32 (1)\\chromedriver.exe'"
   ]
  },
  {
   "cell_type": "code",
   "execution_count": 4,
   "metadata": {},
   "outputs": [],
   "source": [
    "driver= webdriver.Chrome(executable_path=DRIVER_PATH)my_page= driver.get('https://www.flipkart.com/clothing-and-accessories/bottomwear/jeans/men-jeans/pr?sid=clo,vua,k58,i51&otracker=categorytree&otracker=nmenu_sub_Men_0_Jeans')"
   ]
  },
  {
   "cell_type": "code",
   "execution_count": 21,
   "metadata": {},
   "outputs": [],
   "source": [
    "# Scraping Image URLs using Selenium\n",
    "\n",
    "def scrap_image_url(driver):\n",
    "    images= driver.find_elements_by_xpath(\"//img[@class='_3togXc']\")\n",
    "    brands= driver.find_elements_by_xpath(\"//div[@class='_2B_pmu']\")\n",
    "    product_description= driver.find_elements_by_xpath(\"//div[@class='_2LFGJH']/a[1]\")\n",
    "    prices= driver.find_elements_by_xpath(\"//a[@class='_2W-UZw']//div[@class='_1uv9Cb']\")\n",
    "#Print(len(images),len(product_description),len(prices))\n",
    "    product_data= ()\n",
    "    product_data['image_urls']= []\n",
    "    product_data['product_description']= []\n",
    "    product_data['brands']= []\n",
    "    product_data['prices']= []\n",
    "    \n",
    "    for image in images:\n",
    "        source= image.get_attribute('src')\n",
    "        product_data['image_urls'].append(source)\n",
    "        \n",
    "    for brand in brands:\n",
    "        product_data['brands'].append(brand.text)\n",
    "        \n",
    "    for product_desc in product_description:\n",
    "        product_data['product_description'].append(product_desc.text)\n",
    "        \n",
    "    for price in prices:\n",
    "        product_data['prices'].append(price.text)\n",
    "    print(\"Returning scraped data\")\n",
    "    \n",
    "    return product_data\n",
    "#driver.close()"
   ]
  },
  {
   "cell_type": "code",
   "execution_count": 22,
   "metadata": {},
   "outputs": [],
   "source": [
    "import shutil\n",
    "import os\n",
    "import requests\n",
    "import pandas as pd\n",
    "import csv\n",
    "\n",
    "# To save the file\n",
    "def make_directory(dirname):\n",
    "    current_path=os.getcwd()\n",
    "    path= os.path.join(current_path, dirname)\n",
    "    if not os.path.exists(path):\n",
    "        os.makedirs(path)\n",
    "        \n",
    "def save_images(data, dirname, page):\n",
    "    for index, link in enumerate(data['https://www.flipkart.com/mens-jeans/pr?sid=clo%2Cvua%2Ck58%2Ci51&otracker[]=categorytree&otracker[]=nmenu_sub_Men_0_Jeans']):\n",
    "        print(\"Downloading (0) of (1) images\".format(index + 1, len(data['https://www.flipkart.com/mens-jeans/pr?sid=clo%2Cvua%2Ck58%2Ci51&otracker[]=categorytree&otracker[]=nmenu_sub_Men_0_Jeans'])))\n",
    "        response= requests.get(link)\n",
    "        with open('(0)/img_(1)(2).jpeg'.format(dirname, page, index), \"wb\") as file:\n",
    "            file.write(response.content)\n",
    "            \n",
    "def save_data_to_csv(data, filename):\n",
    "    df=pd.DataFrame(data)\n",
    "    df.to_csv(filename, mode=\"a\",encoding= \"utf-8-sig\")"
   ]
  },
  {
   "cell_type": "code",
   "execution_count": 24,
   "metadata": {},
   "outputs": [],
   "source": [
    "DIRNAME=\"jeans\""
   ]
  },
  {
   "cell_type": "code",
   "execution_count": 25,
   "metadata": {},
   "outputs": [],
   "source": [
    "make_directory(DIRNAME)"
   ]
  },
  {
   "cell_type": "code",
   "execution_count": 26,
   "metadata": {},
   "outputs": [],
   "source": [
    "start_pages=1\n",
    "total_pages=5"
   ]
  },
  {
   "cell_type": "code",
   "execution_count": 30,
   "metadata": {},
   "outputs": [
    {
     "ename": "SyntaxError",
     "evalue": "invalid syntax (<ipython-input-30-1181377b4ba3>, line 22)",
     "output_type": "error",
     "traceback": [
      "\u001b[1;36m  File \u001b[1;32m\"<ipython-input-30-1181377b4ba3>\"\u001b[1;36m, line \u001b[1;32m22\u001b[0m\n\u001b[1;33m    new_pages=driver.find_element_by_xpath(\"//a[@class=\"_2Xp0TH fyt9Eu\").text\u001b[0m\n\u001b[1;37m                                                              ^\u001b[0m\n\u001b[1;31mSyntaxError\u001b[0m\u001b[1;31m:\u001b[0m invalid syntax\n"
     ]
    }
   ],
   "source": [
    "for page in range(start_page, total_pages+1):\n",
    "    try:\n",
    "        product_details=scrap_image_url(driver=driver)\n",
    "        print(\"Scraping page [0] of [1] pages\".format(page, total_pages))\n",
    "        \n",
    "        page_value= driver.find_element_by_xpath(\"//a[@class='_2Xp0TH fyt9Eu']\").text\n",
    "        print(\"The current page scraped is ()\".format(page_value))\n",
    "                                                 \n",
    "        save_images(data=product_details, dirmane= DIRNAME, page=page)\n",
    "        print(\"Scraping of page (0) done\".format(page))\n",
    "        \n",
    "        save_data_to_csv(data=product_details, filename='jeans.csv')\n",
    "                                                 \n",
    "        print(\"Moving the next page\")\n",
    "        button_type= driver.find_element_by_xpath(\"//div[@class='_2zg3yZ']//a[@class='_3fVaIS']\").get_attrubute('innerHTML')\n",
    "\n",
    "        if button_type == 'Next':\n",
    "            driver.find_element_by_xpath(\"//a[@class='_3fVaIS']\").click()\n",
    "        else:\n",
    "            driver.find_element_by_xpath(\"//a[@class='_3fVaIS'][2]\").click()\n",
    "        \n",
    "        new_pages=driver.find_element_by_xpath(\"//a[@class=\"_2Xp0TH fyt9Eu\").text\n",
    "        print(\"The new page is ()\".format(new_page)) "
   ]
  },
  {
   "cell_type": "code",
   "execution_count": null,
   "metadata": {},
   "outputs": [],
   "source": []
  }
 ],
 "metadata": {
  "kernelspec": {
   "display_name": "Python 3",
   "language": "python",
   "name": "python3"
  },
  "language_info": {
   "codemirror_mode": {
    "name": "ipython",
    "version": 3
   },
   "file_extension": ".py",
   "mimetype": "text/x-python",
   "name": "python",
   "nbconvert_exporter": "python",
   "pygments_lexer": "ipython3",
   "version": "3.7.4"
  }
 },
 "nbformat": 4,
 "nbformat_minor": 2
}
