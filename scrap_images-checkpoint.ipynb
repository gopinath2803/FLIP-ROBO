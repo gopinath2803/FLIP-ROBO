{
 "cells": [
  {
   "cell_type": "code",
   "execution_count": 1,
   "metadata": {},
   "outputs": [],
   "source": [
    "# Scraping Image URLs using Selenium\n",
    "\n",
    "def scrap_image_url(driver):\n",
    "    images= driver.find_elements_by_xpath(\"//img[@class='_3togXc']\")\n",
    "    brands= driver.find_elements_by_xpath(\"//div[@class='_2B_pmu']\")\n",
    "    product_description= driver.find_elements_by_xpath(\"//div[@class='_2LFGJH']/a[1]\")\n",
    "    prices= driver.find_elements_by_xpath(\"//a[@class='_2W-UZw']//div[@class='_1uv9Cb']\")\n",
    "#Print(len(images),len(product_description),len(prices))\n",
    "    product_data= ()\n",
    "    product_data['image_urls']= []\n",
    "    product_data['product_description']= []\n",
    "    product_data['brands']= []\n",
    "    product_data['prices']= []\n",
    "    \n",
    "    for image in images:\n",
    "        source= image.get_attribute('src')\n",
    "        product_data['image_urls'].append(source)\n",
    "        \n",
    "    for brand in brands:\n",
    "        product_data['brands'].append(brand.text)\n",
    "        \n",
    "    for product_desc in product_description:\n",
    "        product_data['product_description'].append(product_desc.text)\n",
    "        \n",
    "    for price in prices:\n",
    "        product_data['prices'].append(price.text)\n",
    "    print(\"Returning scraped data\")\n",
    "    \n",
    "    return product_data\n",
    "#driver.close()"
   ]
  },
  {
   "cell_type": "code",
   "execution_count": null,
   "metadata": {},
   "outputs": [],
   "source": []
  }
 ],
 "metadata": {
  "kernelspec": {
   "display_name": "Python 3",
   "language": "python",
   "name": "python3"
  },
  "language_info": {
   "codemirror_mode": {
    "name": "ipython",
    "version": 3
   },
   "file_extension": ".py",
   "mimetype": "text/x-python",
   "name": "python",
   "nbconvert_exporter": "python",
   "pygments_lexer": "ipython3",
   "version": "3.7.4"
  }
 },
 "nbformat": 4,
 "nbformat_minor": 2
}
