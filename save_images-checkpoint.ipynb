{
 "cells": [
  {
   "cell_type": "code",
   "execution_count": 1,
   "metadata": {},
   "outputs": [],
   "source": [
    "import shutil\n",
    "import os\n",
    "import requests\n",
    "import pandas as pd\n",
    "import csv\n",
    "\n",
    "# To save the file\n",
    "def make_directory(dirname):\n",
    "    current_path=os.getcwd()\n",
    "    path= os.path.join(current_path, dirname)\n",
    "    if not os.path.exists(path):\n",
    "        os.makedirs(path)\n",
    "        \n",
    "def save_images(data, dirname, page):\n",
    "    for index, link in enumerate(data['image_urls']):\n",
    "        print(\"Downloading (0) of (1) images\".format(index + 1, len(data['image_urls'])))\n",
    "        response= requests.get(link)\n",
    "        with open('(0)/img_(1)(2).jpeg'.format(dirname, page, index), \"wb\") as file:\n",
    "            file.write(response.content)\n",
    "            \n",
    "def save_data_to_csv(data, filename):\n",
    "    df=pd.DataFrame(data)\n",
    "    df.to_csv(filename, mode=\"a\",encoding= \"utf-8-sig\")"
   ]
  },
  {
   "cell_type": "code",
   "execution_count": null,
   "metadata": {},
   "outputs": [],
   "source": []
  }
 ],
 "metadata": {
  "kernelspec": {
   "display_name": "Python 3",
   "language": "python",
   "name": "python3"
  },
  "language_info": {
   "codemirror_mode": {
    "name": "ipython",
    "version": 3
   },
   "file_extension": ".py",
   "mimetype": "text/x-python",
   "name": "python",
   "nbconvert_exporter": "python",
   "pygments_lexer": "ipython3",
   "version": "3.7.4"
  }
 },
 "nbformat": 4,
 "nbformat_minor": 2
}
